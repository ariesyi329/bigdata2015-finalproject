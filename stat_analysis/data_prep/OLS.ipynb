{
 "metadata": {
  "name": "",
  "signature": "sha256:2d6647fe62aa895a05706da98361d45b50a74cd7117ef4a3f76494abf1df4fba"
 },
 "nbformat": 3,
 "nbformat_minor": 0,
 "worksheets": [
  {
   "cells": [
    {
     "cell_type": "code",
     "collapsed": false,
     "input": [
      "import numpy as np\n",
      "import pandas as pd\n",
      "import statsmodels.api as sm\n",
      "from statsmodels.sandbox.regression.predstd import wls_prediction_std"
     ],
     "language": "python",
     "metadata": {},
     "outputs": [],
     "prompt_number": 1
    },
    {
     "cell_type": "code",
     "collapsed": false,
     "input": [
      "df = pd.read_csv('cleaned.csv')"
     ],
     "language": "python",
     "metadata": {},
     "outputs": [],
     "prompt_number": 2
    },
    {
     "cell_type": "code",
     "collapsed": false,
     "input": [
      "y = df['Tip Percentage']"
     ],
     "language": "python",
     "metadata": {},
     "outputs": [],
     "prompt_number": 3
    },
    {
     "cell_type": "code",
     "collapsed": false,
     "input": [
      "percentage_float = [float(y[i][:-1]) for i in range(len(y))]"
     ],
     "language": "python",
     "metadata": {},
     "outputs": [],
     "prompt_number": 4
    },
    {
     "cell_type": "code",
     "collapsed": false,
     "input": [
      "df['Tip Perc'] = percentage_float"
     ],
     "language": "python",
     "metadata": {},
     "outputs": [],
     "prompt_number": 5
    },
    {
     "cell_type": "code",
     "collapsed": false,
     "input": [
      "y = df['Tip Perc']"
     ],
     "language": "python",
     "metadata": {},
     "outputs": [],
     "prompt_number": 6
    },
    {
     "cell_type": "code",
     "collapsed": false,
     "input": [
      "X_labels = list(df.columns)[2:-1]"
     ],
     "language": "python",
     "metadata": {},
     "outputs": [],
     "prompt_number": 7
    },
    {
     "cell_type": "code",
     "collapsed": false,
     "input": [
      "X = df[X_labels]"
     ],
     "language": "python",
     "metadata": {},
     "outputs": [],
     "prompt_number": 8
    },
    {
     "cell_type": "code",
     "collapsed": false,
     "input": [
      "result = sm.OLS(y, X).fit()"
     ],
     "language": "python",
     "metadata": {},
     "outputs": [],
     "prompt_number": 10
    },
    {
     "cell_type": "code",
     "collapsed": false,
     "input": [
      "result.summary()"
     ],
     "language": "python",
     "metadata": {},
     "outputs": [
      {
       "html": [
        "<table class=\"simpletable\">\n",
        "<caption>OLS Regression Results</caption>\n",
        "<tr>\n",
        "  <th>Dep. Variable:</th>        <td>Tip Perc</td>     <th>  R-squared:         </th> <td>   0.967</td>\n",
        "</tr>\n",
        "<tr>\n",
        "  <th>Model:</th>                   <td>OLS</td>       <th>  Adj. R-squared:    </th> <td>   0.963</td>\n",
        "</tr>\n",
        "<tr>\n",
        "  <th>Method:</th>             <td>Least Squares</td>  <th>  F-statistic:       </th> <td>   293.7</td>\n",
        "</tr>\n",
        "<tr>\n",
        "  <th>Date:</th>             <td>Sun, 12 Apr 2015</td> <th>  Prob (F-statistic):</th> <td>6.44e-70</td>\n",
        "</tr>\n",
        "<tr>\n",
        "  <th>Time:</th>                 <td>00:32:31</td>     <th>  Log-Likelihood:    </th> <td> -290.75</td>\n",
        "</tr>\n",
        "<tr>\n",
        "  <th>No. Observations:</th>      <td>   111</td>      <th>  AIC:               </th> <td>   601.5</td>\n",
        "</tr>\n",
        "<tr>\n",
        "  <th>Df Residuals:</th>          <td>   101</td>      <th>  BIC:               </th> <td>   628.6</td>\n",
        "</tr>\n",
        "<tr>\n",
        "  <th>Df Model:</th>              <td>    10</td>      <th>                     </th>     <td> </td>   \n",
        "</tr>\n",
        "<tr>\n",
        "  <th>Covariance Type:</th>      <td>nonrobust</td>    <th>                     </th>     <td> </td>   \n",
        "</tr>\n",
        "</table>\n",
        "<table class=\"simpletable\">\n",
        "<tr>\n",
        "                  <td></td>                     <th>coef</th>     <th>std err</th>      <th>t</th>      <th>P>|t|</th> <th>[95.0% Conf. Int.]</th> \n",
        "</tr>\n",
        "<tr>\n",
        "  <th>Population Density (per sq. mile)</th> <td> 1.755e-05</td> <td> 1.47e-05</td> <td>    1.194</td> <td> 0.235</td> <td>-1.16e-05  4.67e-05</td>\n",
        "</tr>\n",
        "<tr>\n",
        "  <th>Median household income</th>           <td> 1.848e-05</td> <td>  2.7e-05</td> <td>    0.685</td> <td> 0.495</td> <td>-3.51e-05   7.2e-05</td>\n",
        "</tr>\n",
        "<tr>\n",
        "  <th>Gini Index Of Income Inequality</th>   <td>    7.7171</td> <td>    7.891</td> <td>    0.978</td> <td> 0.330</td> <td>   -7.937    23.372</td>\n",
        "</tr>\n",
        "<tr>\n",
        "  <th>Average Commute to Work (in min)</th>  <td>   -0.0088</td> <td>    0.067</td> <td>   -0.133</td> <td> 0.895</td> <td>   -0.141     0.123</td>\n",
        "</tr>\n",
        "<tr>\n",
        "  <th>Male Rate</th>                         <td>   31.9567</td> <td>   10.742</td> <td>    2.975</td> <td> 0.004</td> <td>   10.648    53.266</td>\n",
        "</tr>\n",
        "<tr>\n",
        "  <th>White Rate</th>                        <td>    5.2113</td> <td>    2.631</td> <td>    1.981</td> <td> 0.050</td> <td>   -0.008    10.431</td>\n",
        "</tr>\n",
        "<tr>\n",
        "  <th>Higher Education Rate</th>             <td>   -4.7861</td> <td>    5.639</td> <td>   -0.849</td> <td> 0.398</td> <td>  -15.972     6.400</td>\n",
        "</tr>\n",
        "<tr>\n",
        "  <th>Unemployment Rate</th>                 <td>   11.4705</td> <td>   14.773</td> <td>    0.776</td> <td> 0.439</td> <td>  -17.834    40.775</td>\n",
        "</tr>\n",
        "<tr>\n",
        "  <th>Renter Occupied Rate</th>              <td>   -8.7900</td> <td>    3.756</td> <td>   -2.340</td> <td> 0.021</td> <td>  -16.242    -1.338</td>\n",
        "</tr>\n",
        "<tr>\n",
        "  <th>Public Transportation Rate</th>        <td>    2.1786</td> <td>    4.125</td> <td>    0.528</td> <td> 0.599</td> <td>   -6.005    10.362</td>\n",
        "</tr>\n",
        "</table>\n",
        "<table class=\"simpletable\">\n",
        "<tr>\n",
        "  <th>Omnibus:</th>       <td>56.253</td> <th>  Durbin-Watson:     </th> <td>   1.701</td>\n",
        "</tr>\n",
        "<tr>\n",
        "  <th>Prob(Omnibus):</th> <td> 0.000</td> <th>  Jarque-Bera (JB):  </th> <td> 280.986</td>\n",
        "</tr>\n",
        "<tr>\n",
        "  <th>Skew:</th>          <td> 1.617</td> <th>  Prob(JB):          </th> <td>9.65e-62</td>\n",
        "</tr>\n",
        "<tr>\n",
        "  <th>Kurtosis:</th>      <td>10.092</td> <th>  Cond. No.          </th> <td>3.97e+06</td>\n",
        "</tr>\n",
        "</table>"
       ],
       "metadata": {},
       "output_type": "pyout",
       "prompt_number": 13,
       "text": [
        "<class 'statsmodels.iolib.summary.Summary'>\n",
        "\"\"\"\n",
        "                            OLS Regression Results                            \n",
        "==============================================================================\n",
        "Dep. Variable:               Tip Perc   R-squared:                       0.967\n",
        "Model:                            OLS   Adj. R-squared:                  0.963\n",
        "Method:                 Least Squares   F-statistic:                     293.7\n",
        "Date:                Sun, 12 Apr 2015   Prob (F-statistic):           6.44e-70\n",
        "Time:                        00:32:31   Log-Likelihood:                -290.75\n",
        "No. Observations:                 111   AIC:                             601.5\n",
        "Df Residuals:                     101   BIC:                             628.6\n",
        "Df Model:                          10                                         \n",
        "Covariance Type:            nonrobust                                         \n",
        "=====================================================================================================\n",
        "                                        coef    std err          t      P>|t|      [95.0% Conf. Int.]\n",
        "-----------------------------------------------------------------------------------------------------\n",
        "Population Density (per sq. mile)  1.755e-05   1.47e-05      1.194      0.235     -1.16e-05  4.67e-05\n",
        "Median household income            1.848e-05    2.7e-05      0.685      0.495     -3.51e-05   7.2e-05\n",
        "Gini Index Of Income Inequality       7.7171      7.891      0.978      0.330        -7.937    23.372\n",
        "Average Commute to Work (in min)     -0.0088      0.067     -0.133      0.895        -0.141     0.123\n",
        "Male Rate                            31.9567     10.742      2.975      0.004        10.648    53.266\n",
        "White Rate                            5.2113      2.631      1.981      0.050        -0.008    10.431\n",
        "Higher Education Rate                -4.7861      5.639     -0.849      0.398       -15.972     6.400\n",
        "Unemployment Rate                    11.4705     14.773      0.776      0.439       -17.834    40.775\n",
        "Renter Occupied Rate                 -8.7900      3.756     -2.340      0.021       -16.242    -1.338\n",
        "Public Transportation Rate            2.1786      4.125      0.528      0.599        -6.005    10.362\n",
        "==============================================================================\n",
        "Omnibus:                       56.253   Durbin-Watson:                   1.701\n",
        "Prob(Omnibus):                  0.000   Jarque-Bera (JB):              280.986\n",
        "Skew:                           1.617   Prob(JB):                     9.65e-62\n",
        "Kurtosis:                      10.092   Cond. No.                     3.97e+06\n",
        "==============================================================================\n",
        "\n",
        "Warnings:\n",
        "[1] Standard Errors assume that the covariance matrix of the errors is correctly specified.\n",
        "[2] The condition number is large, 3.97e+06. This might indicate that there are\n",
        "strong multicollinearity or other numerical problems.\n",
        "\"\"\""
       ]
      }
     ],
     "prompt_number": 13
    },
    {
     "cell_type": "code",
     "collapsed": false,
     "input": [],
     "language": "python",
     "metadata": {},
     "outputs": [],
     "prompt_number": 12
    },
    {
     "cell_type": "code",
     "collapsed": false,
     "input": [],
     "language": "python",
     "metadata": {},
     "outputs": []
    }
   ],
   "metadata": {}
  }
 ]
}