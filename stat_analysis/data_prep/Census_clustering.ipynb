{
 "metadata": {
  "name": "",
  "signature": "sha256:577da0d9f464931b9617555931de2c942d970ffc9291a7a90ee36ebcb95147bd"
 },
 "nbformat": 3,
 "nbformat_minor": 0,
 "worksheets": [
  {
   "cells": [
    {
     "cell_type": "code",
     "collapsed": false,
     "input": [
      "import pandas as pd\n",
      "import numpy as np\n",
      "from sklearn.cluster import KMeans\n",
      "import matplotlib.pyplot as plt\n",
      "%matplotlib inline"
     ],
     "language": "python",
     "metadata": {},
     "outputs": [],
     "prompt_number": 1
    },
    {
     "cell_type": "code",
     "collapsed": false,
     "input": [
      "df = pd.read_csv('cleaned_one_year.csv')"
     ],
     "language": "python",
     "metadata": {},
     "outputs": [],
     "prompt_number": 11
    },
    {
     "cell_type": "code",
     "collapsed": false,
     "input": [
      "df = df.drop(['Tip Percentage','count'],1)"
     ],
     "language": "python",
     "metadata": {},
     "outputs": [],
     "prompt_number": 12
    },
    {
     "cell_type": "code",
     "collapsed": false,
     "input": [
      "df = df.set_index('Zip Code')"
     ],
     "language": "python",
     "metadata": {},
     "outputs": [],
     "prompt_number": 13
    },
    {
     "cell_type": "code",
     "collapsed": false,
     "input": [
      "df_norm = (df - df.mean()) / (df.max() - df.min())"
     ],
     "language": "python",
     "metadata": {},
     "outputs": [],
     "prompt_number": 14
    },
    {
     "cell_type": "code",
     "collapsed": false,
     "input": [
      "def kmeas_fun(X, num_clusters):\n",
      "    kmeans = KMeans(init='k-means++', n_clusters=num_clusters, n_init=10)\n",
      "    kmeans.fit(X)\n",
      "    result = kmeans.predict(X)\n",
      "    center = (kmeans.cluster_centers_)\n",
      "    return result, center"
     ],
     "language": "python",
     "metadata": {},
     "outputs": [],
     "prompt_number": 25
    },
    {
     "cell_type": "code",
     "collapsed": false,
     "input": [
      "r,c = kmeas_fun(df_norm, 3)"
     ],
     "language": "python",
     "metadata": {},
     "outputs": [],
     "prompt_number": 36
    },
    {
     "cell_type": "code",
     "collapsed": false,
     "input": [
      "r=[1, 0, 0, 1, 2, 2, 0, 0, 0, 2, 2, 0, 1, 1, 0, 1, 2, 0, 0, 0, 1, 0, 0,\n",
      "       1, 1, 1, 1, 0, 1, 2, 0, 0, 0, 0, 0, 0, 2, 0, 1, 0, 1, 1, 1, 2, 0, 2,\n",
      "       2, 0, 1, 0, 2, 1, 1, 1, 0, 0, 1, 2, 0, 0, 2, 2, 2, 0, 1, 1, 1, 0, 0,\n",
      "       2, 2, 0, 0, 0, 1, 2, 2, 2, 0, 1, 1, 1, 0, 2, 0, 2, 0, 1, 0, 2, 0, 1,\n",
      "       1, 0, 2, 2, 0, 2, 0, 0, 0, 0, 2, 0, 1, 1, 1, 0, 2, 0, 0, 0, 2, 0, 1,\n",
      "       1]"
     ],
     "language": "python",
     "metadata": {},
     "outputs": [],
     "prompt_number": 6
    },
    {
     "cell_type": "code",
     "collapsed": false,
     "input": [
      "r = np.array(r)"
     ],
     "language": "python",
     "metadata": {},
     "outputs": [],
     "prompt_number": 8
    },
    {
     "cell_type": "code",
     "collapsed": false,
     "input": [
      "r.shape"
     ],
     "language": "python",
     "metadata": {},
     "outputs": [
      {
       "metadata": {},
       "output_type": "pyout",
       "prompt_number": 9,
       "text": [
        "(116,)"
       ]
      }
     ],
     "prompt_number": 9
    },
    {
     "cell_type": "code",
     "collapsed": false,
     "input": [
      "def group_result(result,num_clusters):\n",
      "    d = {}\n",
      "    for j in range(num_clusters):\n",
      "        d[j] = []\n",
      "    for i in range(len(result)):\n",
      "        for j in range(num_clusters):\n",
      "            if result[i] == j:\n",
      "                d[j].append(i)\n",
      "    return d"
     ],
     "language": "python",
     "metadata": {},
     "outputs": [],
     "prompt_number": 38
    },
    {
     "cell_type": "code",
     "collapsed": false,
     "input": [
      "def group_result_zipcodes(result,num_clusters,df):\n",
      "    d = {}\n",
      "    for j in range(num_clusters):\n",
      "        d[j] = []\n",
      "    for i in range(len(result)):\n",
      "        for j in range(num_clusters):\n",
      "            if result[i] == j:\n",
      "                d[j].append(df.index[i])\n",
      "    return d"
     ],
     "language": "python",
     "metadata": {},
     "outputs": [],
     "prompt_number": 10
    },
    {
     "cell_type": "code",
     "collapsed": false,
     "input": [
      "import pickle"
     ],
     "language": "python",
     "metadata": {},
     "outputs": [],
     "prompt_number": 3
    },
    {
     "cell_type": "code",
     "collapsed": false,
     "input": [
      "d_zip = group_result_zipcodes(r,3,df_norm)"
     ],
     "language": "python",
     "metadata": {},
     "outputs": [],
     "prompt_number": 15
    },
    {
     "cell_type": "code",
     "collapsed": false,
     "input": [
      "d = group_result(r,3)"
     ],
     "language": "python",
     "metadata": {},
     "outputs": [],
     "prompt_number": 39
    },
    {
     "cell_type": "code",
     "collapsed": false,
     "input": [
      "import pickle"
     ],
     "language": "python",
     "metadata": {},
     "outputs": [],
     "prompt_number": 42
    },
    {
     "cell_type": "code",
     "collapsed": false,
     "input": [
      "pickle.dump(d, open('cluster_results_index', 'w'))"
     ],
     "language": "python",
     "metadata": {},
     "outputs": [],
     "prompt_number": 43
    },
    {
     "cell_type": "code",
     "collapsed": false,
     "input": [
      "pickle.dump(d_zip, open('cluster_results_zipcode', 'w'))"
     ],
     "language": "python",
     "metadata": {},
     "outputs": [],
     "prompt_number": 17
    },
    {
     "cell_type": "code",
     "collapsed": false,
     "input": [
      "10001 in d_zip[0]"
     ],
     "language": "python",
     "metadata": {},
     "outputs": [
      {
       "metadata": {},
       "output_type": "pyout",
       "prompt_number": 22,
       "text": [
        "False"
       ]
      }
     ],
     "prompt_number": 22
    },
    {
     "cell_type": "code",
     "collapsed": false,
     "input": [],
     "language": "python",
     "metadata": {},
     "outputs": []
    }
   ],
   "metadata": {}
  }
 ]
}